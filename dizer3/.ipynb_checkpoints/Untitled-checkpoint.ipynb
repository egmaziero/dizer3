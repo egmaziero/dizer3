{
 "cells": [
  {
   "cell_type": "code",
   "execution_count": 6,
   "metadata": {},
   "outputs": [
    {
     "name": "stdout",
     "output_type": "stream",
     "text": [
      "1.0000\n"
     ]
    }
   ],
   "source": [
    "#!/usr/bin/env python\n",
    "# -*- coding: utf-8 -*-\n",
    "# Coeficiente de correlação de Pearson\n",
    "\n",
    "def pearson(tamanho, provas, exercicios):\n",
    "    ref_arquivo = open('input.txt', 'r')\n",
    "\n",
    "    # Primeiro, calcula a média dos valores \"/x\"\n",
    "    media_provas = float(sum(provas)) / len(provas)\n",
    "    # Calcula também a média das listas de exercícios \"/y\"\n",
    "    media_exercicios = float(sum(exercicios)) / len(exercicios)\n",
    "\n",
    "    p_cima = 0\n",
    "    p_baixo_prova = 0\n",
    "    p_baixo_exercicio = 0\n",
    "    for nota_prova, nota_exercicio in zip(provas, exercicios):\n",
    "            # somatório de p_cima \n",
    "            p_cima = p_cima + ((nota_prova - media_provas) * (nota_exercicio - media_exercicios))\n",
    "            # somatórios de baixo\n",
    "            p_baixo_prova = p_baixo_prova + ((nota_prova - media_provas) ** 2)\n",
    "            p_baixo_exercicio = p_baixo_exercicio + ((nota_exercicio - media_exercicios) ** 2)\n",
    "\n",
    "    p = p_cima / ((p_baixo_prova * p_baixo_exercicio) ** (1/2.0))\n",
    "    return p\n",
    "\n",
    "resultado = pearson(9, [1,2,3,4,5,6,7,8,9], [1,2,3,4,5,6,7,8,9])\n",
    "print('%.4f' % resultado)"
   ]
  },
  {
   "cell_type": "code",
   "execution_count": 8,
   "metadata": {},
   "outputs": [
    {
     "name": "stdout",
     "output_type": "stream",
     "text": [
      "[[], [], []]\n"
     ]
    }
   ],
   "source": [
    "texto = [[1, 2], [3, 4], [5, 6]]\n",
    "x = texto.copy()\n",
    "y = texto.copy()\n",
    "\n",
    "for index in range(len(y)):\n",
    "    y[index].pop()\n",
    "\n",
    "for index in range(len(x)):\n",
    "    x[index].pop(0)\n",
    "print(x)\n"
   ]
  },
  {
   "cell_type": "code",
   "execution_count": null,
   "metadata": {},
   "outputs": [],
   "source": []
  }
 ],
 "metadata": {
  "kernelspec": {
   "display_name": "Python 3",
   "language": "python",
   "name": "python3"
  },
  "language_info": {
   "codemirror_mode": {
    "name": "ipython",
    "version": 3
   },
   "file_extension": ".py",
   "mimetype": "text/x-python",
   "name": "python",
   "nbconvert_exporter": "python",
   "pygments_lexer": "ipython3",
   "version": "3.6.8"
  }
 },
 "nbformat": 4,
 "nbformat_minor": 4
}
