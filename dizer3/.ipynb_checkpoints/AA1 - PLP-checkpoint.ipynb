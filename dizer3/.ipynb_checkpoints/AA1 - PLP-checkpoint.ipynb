{
 "cells": [
  {
   "cell_type": "code",
   "execution_count": 29,
   "metadata": {},
   "outputs": [
    {
     "name": "stdout",
     "output_type": "stream",
     "text": [
      "-0.024770857631891286\n",
      "-0.029544090228467417\n",
      "-0.058022808684314545\n",
      "-0.09206846111703358\n",
      "-0.10411585972360486\n",
      "0.9509550010161715\n",
      "0.9496442264499162\n",
      "0.9577974890984868\n",
      "0.9578577513746523\n",
      "0.968478541494863\n",
      "0.9535843665541232\n"
     ]
    }
   ],
   "source": [
    "for f in range(11):\n",
    "    with open('input{}.txt'.format(f), 'r') as file:\n",
    "        lines = file.readlines()\n",
    "\n",
    "    x = []\n",
    "    y = []\n",
    "    for line in lines:\n",
    "        coords = line.split(',')\n",
    "        try:\n",
    "            x.append(float(coords[0].strip()))\n",
    "            y.append(float(coords[1].strip()))\n",
    "        except:\n",
    "            print('Erro na leitura da linha {}'.format(line))\n",
    "\n",
    "    xbar = sum(x)/len(x)\n",
    "    ybar = sum(y)/len(y)\n",
    "\n",
    "    import math\n",
    "\n",
    "    numerator = 0\n",
    "    sumx = 0\n",
    "    sumy = 0\n",
    "\n",
    "    for xi, yi in zip(x, y):\n",
    "        numerator += (xi - xbar) * (yi - ybar)\n",
    "        sumx += math.pow((xi - xbar), 2)\n",
    "        sumy += math.pow((yi - ybar), 2)\n",
    "\n",
    "    denominator = math.sqrt(sumx * sumy)\n",
    "\n",
    "    try:\n",
    "        cP = numerator / denominator\n",
    "    except ZeroDivisionError:\n",
    "        print('Divisão por zero, reveja o arquivo e tente novamente')\n",
    "\n",
    "    print(cP)"
   ]
  },
  {
   "cell_type": "code",
   "execution_count": 28,
   "metadata": {},
   "outputs": [],
   "source": [
    "import random\n",
    "# not correlated\n",
    "for i in range(5):\n",
    "    with open('input{}.txt'.format(i), 'w') as file:\n",
    "        for _ in range(100):\n",
    "            x = random.randrange(-100, 100)\n",
    "            y = random.randrange(-100, 100)\n",
    "            file.write('{},{}\\n'.format(x, y))\n",
    "            \n",
    "# correlated\n",
    "for i in range(5, 11):\n",
    "    with open('input{}.txt'.format(i), 'w') as file:\n",
    "        for _ in range(100):\n",
    "            x = random.randrange(-100, 100)\n",
    "            y = x + 1 + random.randrange(-30, 30)\n",
    "            file.write('{},{}\\n'.format(x, y))"
   ]
  },
  {
   "cell_type": "code",
   "execution_count": 5,
   "metadata": {},
   "outputs": [
    {
     "name": "stdout",
     "output_type": "stream",
     "text": [
      "0.9990772074968529\n"
     ]
    }
   ],
   "source": [
    "with open('input.txt', 'r') as file:\n",
    "    lines = file.readlines()\n",
    "\n",
    "x = []\n",
    "y = []\n",
    "for line in lines:\n",
    "    coords = line.split(',')\n",
    "    try:\n",
    "        x.append(float(coords[0].strip()))\n",
    "        y.append(float(coords[1].strip()))\n",
    "    except:\n",
    "        print('Erro na leitura da linha {}'.format(line))\n",
    "\n",
    "xbar = sum(x)/len(x)\n",
    "ybar = sum(y)/len(y)\n",
    "\n",
    "import math\n",
    "\n",
    "numerator = 0\n",
    "sumx = 0\n",
    "sumy = 0\n",
    "\n",
    "for xi, yi in zip(x, y):\n",
    "    numerator += (xi - xbar) * (yi - ybar)\n",
    "    sumx += math.pow((xi - xbar), 2)\n",
    "    sumy += math.pow((yi - ybar), 2)\n",
    "\n",
    "denominator = math.sqrt(sumx * sumy)\n",
    "\n",
    "try:\n",
    "    cP = numerator / denominator\n",
    "except ZeroDivisionError:\n",
    "    print('Divisão por zero, reveja o arquivo e tente novamente')\n",
    "\n",
    "print(cP)"
   ]
  },
  {
   "cell_type": "code",
   "execution_count": null,
   "metadata": {},
   "outputs": [],
   "source": []
  }
 ],
 "metadata": {
  "kernelspec": {
   "display_name": "Python 3",
   "language": "python",
   "name": "python3"
  },
  "language_info": {
   "codemirror_mode": {
    "name": "ipython",
    "version": 3
   },
   "file_extension": ".py",
   "mimetype": "text/x-python",
   "name": "python",
   "nbconvert_exporter": "python",
   "pygments_lexer": "ipython3",
   "version": "3.6.8"
  }
 },
 "nbformat": 4,
 "nbformat_minor": 4
}
